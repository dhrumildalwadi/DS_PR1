{
  "nbformat": 4,
  "nbformat_minor": 0,
  "metadata": {
    "colab": {
      "name": "18IT027_DS_PR1.ipynb",
      "provenance": [],
      "collapsed_sections": []
    },
    "kernelspec": {
      "name": "python3",
      "display_name": "Python 3"
    },
    "language_info": {
      "name": "python"
    }
  },
  "cells": [
    {
      "cell_type": "code",
      "metadata": {
        "id": "FMw8R9u64o4S"
      },
      "source": [
        "from selenium import webdriver\n",
        "from bs4 import BeautifulSoup\n",
        "import pandas as pd\n",
        "import requests"
      ],
      "execution_count": 10,
      "outputs": []
    },
    {
      "cell_type": "code",
      "metadata": {
        "id": "ADlTPIdB6QHL"
      },
      "source": [
        "url=\"https://www.flipkart.com/search?q=laptop&otracker=search&otracker1=search&marketplace=FLIPKART&as-show=on&as=off\"\n",
        "response = requests.get(url)\n",
        "htmlcontent = response.content\n",
        "soup = BeautifulSoup(htmlcontent,\"html.parser\")"
      ],
      "execution_count": 11,
      "outputs": []
    },
    {
      "cell_type": "code",
      "metadata": {
        "colab": {
          "base_uri": "https://localhost:8080/"
        },
        "id": "hUD_5Dq5631c",
        "outputId": "9ad77266-b95d-4353-82aa-82f7988024a0"
      },
      "source": [
        "products=[]\n",
        "prices=[]\n",
        "product=soup.find('div',attrs={'class':'_4rR01T'})\n",
        "print(product.text)"
      ],
      "execution_count": 12,
      "outputs": [
        {
          "output_type": "stream",
          "name": "stdout",
          "text": [
            "MSI Modern 14 Core i5 10th Gen - (8 GB/512 GB SSD/Windows 10 Home) Modern 14 B10MW-423IN Laptop\n"
          ]
        }
      ]
    },
    {
      "cell_type": "code",
      "metadata": {
        "id": "gI-O9IWs7uqh"
      },
      "source": [
        "for a in soup.findAll('a', attrs={'class':'_1fQZEK'}):\n",
        "  name=a.find('div',attrs={'class':'_4rR01T'})\n",
        "  price=a.find('div',attrs={'class':'_30jeq3 _1_WHN1'})\n",
        "  products.append(name.text)\n",
        "  prices.append(price.text)"
      ],
      "execution_count": 13,
      "outputs": []
    },
    {
      "cell_type": "code",
      "metadata": {
        "id": "O-WOad8e8BP8"
      },
      "source": [
        "final=[]\n",
        "for i in prices:\n",
        "    i=i[1:]\n",
        "    final.append(i)"
      ],
      "execution_count": 14,
      "outputs": []
    },
    {
      "cell_type": "code",
      "metadata": {
        "colab": {
          "base_uri": "https://localhost:8080/",
          "height": 203
        },
        "id": "iImevkE48Hwv",
        "outputId": "d6b68ceb-0bbf-4f16-aa99-b5ef4d1ad72a"
      },
      "source": [
        "df = pd.DataFrame({'Product Name':products,'Prices':final})\n",
        "df.head()"
      ],
      "execution_count": 15,
      "outputs": [
        {
          "output_type": "execute_result",
          "data": {
            "text/html": [
              "<div>\n",
              "<style scoped>\n",
              "    .dataframe tbody tr th:only-of-type {\n",
              "        vertical-align: middle;\n",
              "    }\n",
              "\n",
              "    .dataframe tbody tr th {\n",
              "        vertical-align: top;\n",
              "    }\n",
              "\n",
              "    .dataframe thead th {\n",
              "        text-align: right;\n",
              "    }\n",
              "</style>\n",
              "<table border=\"1\" class=\"dataframe\">\n",
              "  <thead>\n",
              "    <tr style=\"text-align: right;\">\n",
              "      <th></th>\n",
              "      <th>Product Name</th>\n",
              "      <th>Prices</th>\n",
              "    </tr>\n",
              "  </thead>\n",
              "  <tbody>\n",
              "    <tr>\n",
              "      <th>0</th>\n",
              "      <td>MSI Modern 14 Core i5 10th Gen - (8 GB/512 GB ...</td>\n",
              "      <td>49,990</td>\n",
              "    </tr>\n",
              "    <tr>\n",
              "      <th>1</th>\n",
              "      <td>MSI Stealth 15M Core i7 11th Gen - (16 GB/1 TB...</td>\n",
              "      <td>1,34,990</td>\n",
              "    </tr>\n",
              "    <tr>\n",
              "      <th>2</th>\n",
              "      <td>ASUS ROG Strix G15 (2021) Advantage Edition Ry...</td>\n",
              "      <td>1,54,990</td>\n",
              "    </tr>\n",
              "    <tr>\n",
              "      <th>3</th>\n",
              "      <td>Lenovo IdeaPad Slim 3i (2021) Core i3 11th Gen...</td>\n",
              "      <td>45,990</td>\n",
              "    </tr>\n",
              "    <tr>\n",
              "      <th>4</th>\n",
              "      <td>Lenovo IdeaPad 3 Core i3 10th Gen - (8 GB/1 TB...</td>\n",
              "      <td>39,990</td>\n",
              "    </tr>\n",
              "  </tbody>\n",
              "</table>\n",
              "</div>"
            ],
            "text/plain": [
              "                                        Product Name    Prices\n",
              "0  MSI Modern 14 Core i5 10th Gen - (8 GB/512 GB ...    49,990\n",
              "1  MSI Stealth 15M Core i7 11th Gen - (16 GB/1 TB...  1,34,990\n",
              "2  ASUS ROG Strix G15 (2021) Advantage Edition Ry...  1,54,990\n",
              "3  Lenovo IdeaPad Slim 3i (2021) Core i3 11th Gen...    45,990\n",
              "4  Lenovo IdeaPad 3 Core i3 10th Gen - (8 GB/1 TB...    39,990"
            ]
          },
          "metadata": {},
          "execution_count": 15
        }
      ]
    },
    {
      "cell_type": "code",
      "metadata": {
        "colab": {
          "base_uri": "https://localhost:8080/",
          "height": 357
        },
        "id": "1LeW0SSr8KR7",
        "outputId": "66597769-d083-4f9f-ac3b-2ccd60c7d656"
      },
      "source": [
        "df.to_csv('products.csv', index=False, encoding='utf-8')\n",
        "data = pd.read_csv('products.csv')\n",
        "data.head(10)"
      ],
      "execution_count": 18,
      "outputs": [
        {
          "output_type": "execute_result",
          "data": {
            "text/html": [
              "<div>\n",
              "<style scoped>\n",
              "    .dataframe tbody tr th:only-of-type {\n",
              "        vertical-align: middle;\n",
              "    }\n",
              "\n",
              "    .dataframe tbody tr th {\n",
              "        vertical-align: top;\n",
              "    }\n",
              "\n",
              "    .dataframe thead th {\n",
              "        text-align: right;\n",
              "    }\n",
              "</style>\n",
              "<table border=\"1\" class=\"dataframe\">\n",
              "  <thead>\n",
              "    <tr style=\"text-align: right;\">\n",
              "      <th></th>\n",
              "      <th>Product Name</th>\n",
              "      <th>Prices</th>\n",
              "    </tr>\n",
              "  </thead>\n",
              "  <tbody>\n",
              "    <tr>\n",
              "      <th>0</th>\n",
              "      <td>MSI Modern 14 Core i5 10th Gen - (8 GB/512 GB ...</td>\n",
              "      <td>49,990</td>\n",
              "    </tr>\n",
              "    <tr>\n",
              "      <th>1</th>\n",
              "      <td>MSI Stealth 15M Core i7 11th Gen - (16 GB/1 TB...</td>\n",
              "      <td>1,34,990</td>\n",
              "    </tr>\n",
              "    <tr>\n",
              "      <th>2</th>\n",
              "      <td>ASUS ROG Strix G15 (2021) Advantage Edition Ry...</td>\n",
              "      <td>1,54,990</td>\n",
              "    </tr>\n",
              "    <tr>\n",
              "      <th>3</th>\n",
              "      <td>Lenovo IdeaPad Slim 3i (2021) Core i3 11th Gen...</td>\n",
              "      <td>45,990</td>\n",
              "    </tr>\n",
              "    <tr>\n",
              "      <th>4</th>\n",
              "      <td>Lenovo IdeaPad 3 Core i3 10th Gen - (8 GB/1 TB...</td>\n",
              "      <td>39,990</td>\n",
              "    </tr>\n",
              "    <tr>\n",
              "      <th>5</th>\n",
              "      <td>Lenovo APU Dual Core A9 A99425 - (4 GB/1 TB HD...</td>\n",
              "      <td>28,000</td>\n",
              "    </tr>\n",
              "    <tr>\n",
              "      <th>6</th>\n",
              "      <td>DELL Inspiron Ryzen 3 Dual Core 3250U - (8 GB/...</td>\n",
              "      <td>39,990</td>\n",
              "    </tr>\n",
              "    <tr>\n",
              "      <th>7</th>\n",
              "      <td>MSI Modern 14 Core i5 11th Gen - (8 GB/512 GB ...</td>\n",
              "      <td>54,990</td>\n",
              "    </tr>\n",
              "    <tr>\n",
              "      <th>8</th>\n",
              "      <td>acer Aspire 5 Core i3 11th Gen - (4 GB/256 GB ...</td>\n",
              "      <td>38,990</td>\n",
              "    </tr>\n",
              "    <tr>\n",
              "      <th>9</th>\n",
              "      <td>ASUS TUF Gaming A17 Ryzen 5 Hexa Core 4600H - ...</td>\n",
              "      <td>62,990</td>\n",
              "    </tr>\n",
              "  </tbody>\n",
              "</table>\n",
              "</div>"
            ],
            "text/plain": [
              "                                        Product Name    Prices\n",
              "0  MSI Modern 14 Core i5 10th Gen - (8 GB/512 GB ...    49,990\n",
              "1  MSI Stealth 15M Core i7 11th Gen - (16 GB/1 TB...  1,34,990\n",
              "2  ASUS ROG Strix G15 (2021) Advantage Edition Ry...  1,54,990\n",
              "3  Lenovo IdeaPad Slim 3i (2021) Core i3 11th Gen...    45,990\n",
              "4  Lenovo IdeaPad 3 Core i3 10th Gen - (8 GB/1 TB...    39,990\n",
              "5  Lenovo APU Dual Core A9 A99425 - (4 GB/1 TB HD...    28,000\n",
              "6  DELL Inspiron Ryzen 3 Dual Core 3250U - (8 GB/...    39,990\n",
              "7  MSI Modern 14 Core i5 11th Gen - (8 GB/512 GB ...    54,990\n",
              "8  acer Aspire 5 Core i3 11th Gen - (4 GB/256 GB ...    38,990\n",
              "9  ASUS TUF Gaming A17 Ryzen 5 Hexa Core 4600H - ...    62,990"
            ]
          },
          "metadata": {},
          "execution_count": 18
        }
      ]
    }
  ]
}